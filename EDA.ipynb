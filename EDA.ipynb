{
  "cells": [
    {
      "metadata": {
        "trusted": true,
        "_uuid": "85aaec92c30bd823e41b82b9721cbbfbb411443f"
      },
      "cell_type": "code",
      "source": "%matplotlib inline\nimport pandas as pd",
      "execution_count": null,
      "outputs": []
    },
    {
      "metadata": {
        "_uuid": "c204ee73678a99e95d6b676b9b1e2f9157d7c103"
      },
      "cell_type": "markdown",
      "source": "# Reading the data"
    },
    {
      "metadata": {
        "trusted": true,
        "_uuid": "84a62e7068be908f36ea5df31fc75863e4f0465f"
      },
      "cell_type": "code",
      "source": "from subprocess import check_output\nprint(check_output([\"ls\", \"../input/\"]))",
      "execution_count": null,
      "outputs": []
    },
    {
      "metadata": {
        "trusted": true,
        "_uuid": "e47566c77b49cd70bfd378442a713faab4d0cd62"
      },
      "cell_type": "code",
      "source": "data = pd.read_csv('../input/train.tsv', delimiter='\\t')",
      "execution_count": null,
      "outputs": []
    },
    {
      "metadata": {
        "_uuid": "115bf37545d268a628de546063cde0058e982eca"
      },
      "cell_type": "markdown",
      "source": "Let's take a look at the data"
    },
    {
      "metadata": {
        "trusted": true,
        "_uuid": "f20158022254bb2f2f107d159fc9740907042a64"
      },
      "cell_type": "code",
      "source": "data.head()",
      "execution_count": null,
      "outputs": []
    },
    {
      "metadata": {
        "_uuid": "f93563e011b124a76a39035d330ef73d70e5399a"
      },
      "cell_type": "markdown",
      "source": "# Exploratory Data Analysis"
    },
    {
      "metadata": {
        "trusted": true,
        "_uuid": "19e08b7f36e53ef2681335127e0a586b9189c7c0"
      },
      "cell_type": "code",
      "source": "data.shape",
      "execution_count": null,
      "outputs": []
    },
    {
      "metadata": {
        "trusted": true,
        "_uuid": "f949b6e39d328edd7024b25dc35585f79efb157d"
      },
      "cell_type": "code",
      "source": "data.describe()",
      "execution_count": null,
      "outputs": []
    },
    {
      "metadata": {
        "_uuid": "0aa0aa16b2b9a65788516790fd242496e1408f54"
      },
      "cell_type": "markdown",
      "source": "From above, we can draw the following conclusions: <br>\n - The maximum value on the Phrase ID is the same as the number of rows in the data hence, Phrase ID is a sequence number on the data.\n - Looking at the minimum and maximum value on the Sentiment, there are probably 5 sentiments 0, 1, 2, 3 and 4.\n     - We shall check this by looking at the unique values.\n    \nLastly, we're not sure right now as to what value the Sentence ID is adding to the data.\nSome further data exploration is required."
    },
    {
      "metadata": {
        "trusted": true,
        "_uuid": "f690ecc0cb8a706cc6adfe794b8e2ee67ed48493"
      },
      "cell_type": "code",
      "source": "data['Sentiment'].unique()",
      "execution_count": null,
      "outputs": []
    },
    {
      "metadata": {
        "_uuid": "d3fc3f625e326cf01766d433c474a8df13fd0cb1"
      },
      "cell_type": "markdown",
      "source": "As suspected above, we do have 5 sentiments: 0, 1, 2, 3 and 4 <br>\n\nNow we have a few things to check:\n - If there are any missing values\n      - In the describe above, the count for each column was 156,060 which could mean that there are no missing values but we shall check. Also, the Phrase column is the one which we need to check for missing values\n - Distribution of data for each sentiment\n - Which Sentiment does each of the Sentiment value represent\n - Check for Duplicates"
    },
    {
      "metadata": {
        "trusted": true,
        "_uuid": "6af7414dd88f4301f83fcb36b6c5c93537f7c04e"
      },
      "cell_type": "code",
      "source": "data['Sentiment'].hist()",
      "execution_count": null,
      "outputs": []
    },
    {
      "metadata": {
        "trusted": true,
        "_uuid": "c83685f6f97722792d61c25c65b04fd26b5bc488"
      },
      "cell_type": "code",
      "source": "data['Sentiment'].value_counts()",
      "execution_count": null,
      "outputs": []
    },
    {
      "metadata": {
        "trusted": true,
        "_uuid": "d42aea6e1294aa7e0c49bd92b476f756e1bc380a"
      },
      "cell_type": "code",
      "source": "data.isnull().sum(axis=0)",
      "execution_count": null,
      "outputs": []
    },
    {
      "metadata": {
        "trusted": true,
        "_uuid": "1ecd5ec13ea6ccc8ad7afede16af11a03124eb6c"
      },
      "cell_type": "code",
      "source": "data[data['Sentiment'] == 4].head()",
      "execution_count": null,
      "outputs": []
    },
    {
      "metadata": {
        "trusted": true,
        "_uuid": "7ded1ebebd8d64ee017f70626f4721d1561c6cf3"
      },
      "cell_type": "code",
      "source": "data['Phrase'].map(len).max()",
      "execution_count": null,
      "outputs": []
    },
    {
      "metadata": {
        "_uuid": "624f0784b4ea816cf8defffbbad53dd9af754bbf"
      },
      "cell_type": "markdown",
      "source": "Looking into the data, we draw the following conclusions:\n1. 0 is the lowest review for a sentence and 4 is the highest.\n2. It seems that the phrases with the same Sentence ID are a part of the same Sentence/Review. But, the Sentiment could be different for the different phrases in a Sentence"
    },
    {
      "metadata": {
        "trusted": true,
        "_uuid": "2a866c88dc5531eed958d9ba10941ce154405c4b"
      },
      "cell_type": "code",
      "source": "data.groupby(['SentenceId']).filter(lambda x: x['Sentiment'].nunique() > 1)['SentenceId'].nunique()",
      "execution_count": null,
      "outputs": []
    },
    {
      "metadata": {
        "trusted": true,
        "_uuid": "dbd237931577dee378d67777ba497bfc8a09cf33"
      },
      "cell_type": "code",
      "source": "data.groupby(['SentenceId']).filter(lambda x: x['Sentiment'].nunique() > 1)['PhraseId'].nunique()",
      "execution_count": null,
      "outputs": []
    },
    {
      "metadata": {
        "_uuid": "92e9641cda4bba5dcdb6c30f1dfed0f9e55047d7"
      },
      "cell_type": "markdown",
      "source": "As we see above, there are 8234 Sentence IDs with more than 1 sentiment. <br>\nOut of a total of 156,060 rows, 154,756 rows have one sentence/review with more than 1 sentiment. <br><br>\n\nLet's check out the test data and see how that is."
    },
    {
      "metadata": {
        "trusted": true,
        "_uuid": "1665d6eaf90be39e277fa75f4217fb06bd5d1745"
      },
      "cell_type": "code",
      "source": "test_data = pd.read_csv('../input/test.tsv', delimiter='\\t')",
      "execution_count": null,
      "outputs": []
    },
    {
      "metadata": {
        "trusted": true,
        "_uuid": "71efe5a371866a50bdf6d231f9a677f59f989bae"
      },
      "cell_type": "code",
      "source": "test_data.head()",
      "execution_count": null,
      "outputs": []
    },
    {
      "metadata": {
        "_uuid": "64de147b6a976c272123445d8fa8f9e2ff483bed"
      },
      "cell_type": "markdown",
      "source": "The test data is similar to the train data. The different phrases in the Sentence are listed seperately and a SentenceId ties them together."
    }
  ],
  "metadata": {
    "kernelspec": {
      "display_name": "Python 3",
      "language": "python",
      "name": "python3"
    },
    "language_info": {
      "name": "python",
      "version": "3.6.6",
      "mimetype": "text/x-python",
      "codemirror_mode": {
        "name": "ipython",
        "version": 3
      },
      "pygments_lexer": "ipython3",
      "nbconvert_exporter": "python",
      "file_extension": ".py"
    }
  },
  "nbformat": 4,
  "nbformat_minor": 1
}